{
 "cells": [
  {
   "cell_type": "markdown",
   "id": "75488de8",
   "metadata": {},
   "source": [
    "# Homework 2\n",
    "\n",
    "## Your Name Here (or your names here if you are pair programming)\n",
    "\n",
    " - Student Name:\n",
    " - Student UT EID:\n",
    "\n",
    "\n",
    " - Partner Name:\n",
    " - Partner UT EID:\n",
    "\n",
    "## Practicing Pandas\n"
   ]
  },
  {
   "cell_type": "code",
   "execution_count": null,
   "id": "4706e3ff",
   "metadata": {},
   "outputs": [],
   "source": [
    "# Standard Headers\n",
    "# You are welcome to add additional headers here if you wish\n",
    "import pandas as pd\n",
    "import numpy as np\n",
    "import matplotlib.pyplot as plt\n",
    "\n",
    "# Enable inline mode for matplotlib so that Jupyter displays graphs\n",
    "%matplotlib inline"
   ]
  },
  {
   "cell_type": "markdown",
   "id": "f5a8bca8",
   "metadata": {},
   "source": [
    "# Social Network Dataset\n",
    "\n",
    "In this assignment we work with a social network dataset. \n",
    "\n",
    "You have 5 tables to work on. \n",
    "\n",
    "1. **person_knows_person**\n",
    "This table represents the friendship between users. A person can have many friends. Persons have unique integer id number. \n",
    "\n",
    "2. **person_likes_post_file** \n",
    "This tables represents user likes. A person and a post is represented by IDs. \n",
    "\n",
    "3. **post_hasCreator_person**\n",
    "A person creates many posts. Each post has a unique creator person id. \n",
    "\n",
    "4. **comment_replyOf_post**\n",
    "This table represents comments on posts. Both post and comments have unique ids. \n",
    "\n",
    "5. **comment_hasCreator_person** \n",
    "A user can comment on posts. Each comment has a unique creator person id. \n"
   ]
  },
  {
   "cell_type": "code",
   "execution_count": null,
   "id": "d6b55f94",
   "metadata": {},
   "outputs": [],
   "source": [
    "url = \"https://raw.githubusercontent.com/kiat/Elements-of-Data-Analytics/main/datasets/social-media/\"\n",
    "\n",
    "person_knows_person_file = url + \"person_knows_person.csv\"\n",
    "person_likes_post_file = url + \"person_likes_post.csv\"\n",
    "post_hasCreator_person_file = url + \"post_hasCreator_person.csv\"\n",
    "comment_replyOf_post_file = url + \"comment_replyOf_post.csv\"\n",
    "comment_hasCreator_person_file = url + \"comment_hasCreator_person.csv\"\n",
    "\n",
    "person_knows_person = pd.read_csv(person_knows_person_file,  sep='|')\n",
    "person_likes_post = pd.read_csv(person_likes_post_file,  sep='|')\n",
    "post_hasCreator_person = pd.read_csv(post_hasCreator_person_file,  sep='|')\n",
    "comment_replyOf_post = pd.read_csv(comment_replyOf_post_file, sep='|')\n",
    "comment_hasCreator_person = pd.read_csv(comment_hasCreator_person_file,  sep='|')\n",
    "\n",
    "print(person_knows_person.head(5))\n",
    "print(\"-------------------------\")\n",
    "\n",
    "print(person_likes_post.head(5))\n",
    "print(\"-------------------------\")\n",
    "\n",
    "print(post_hasCreator_person.head(5))\n",
    "print(\"-------------------------\")\n",
    "\n",
    "print(comment_replyOf_post.head(5))\n",
    "print(\"-------------------------\")\n",
    "\n",
    "print(comment_hasCreator_person.head(5))\n",
    "print(\"-------------------------\")"
   ]
  },
  {
   "cell_type": "markdown",
   "id": "22e45d92",
   "metadata": {},
   "source": [
    "# Question - 1. Who are the top-10 users who have the highest number of friends? (4 points)\n",
    "Count up the number of friends of each user and provide the top-10 of this number of friend count list. Print out their user IDs. "
   ]
  },
  {
   "cell_type": "code",
   "execution_count": null,
   "id": "50c41ffd",
   "metadata": {},
   "outputs": [],
   "source": [
    "# Code here"
   ]
  },
  {
   "cell_type": "markdown",
   "id": "5231d77c",
   "metadata": {},
   "source": [
    "# Question - 2. Who wrote the most liked post?  (4 points)\n",
    "Count up the number of likes for each post and find out who wrote that post. \n",
    "Print out the user id. If there are multiple maximum print them all. "
   ]
  },
  {
   "cell_type": "code",
   "execution_count": null,
   "id": "3352eb79",
   "metadata": {},
   "outputs": [],
   "source": [
    "# Code here "
   ]
  },
  {
   "cell_type": "markdown",
   "id": "87526486",
   "metadata": {},
   "source": [
    "# Question - 3. Who wrote the most influential post? The most influential post is the most discussed and most liked post. (4 points)\n",
    "\n",
    "**Tip:** First, count up the number of comments and likes that each post has. Then find out which post it is, and finally find out who wrote that. \n",
    "Print out one user id. \n",
    "If there is a tie, print out the ***one***  at the tope of the list.\n"
   ]
  },
  {
   "cell_type": "code",
   "execution_count": null,
   "id": "a5c93b3f",
   "metadata": {},
   "outputs": [],
   "source": [
    "# Code here "
   ]
  },
  {
   "cell_type": "markdown",
   "id": "9df61f32",
   "metadata": {},
   "source": [
    "# Question - 4. Create two histograms for the distributions of the number of likes and comments that users have created. (4 points)\n",
    "Describe the shape of these data two data distributions. \n",
    "\n",
    "**Tip:** First perpare two lists of number of likes and number of comments that users have done. You need to count up how many likes and how many comments each unique user id has. "
   ]
  },
  {
   "cell_type": "code",
   "execution_count": null,
   "id": "1cccc2fc",
   "metadata": {},
   "outputs": [],
   "source": [
    "# Code here"
   ]
  },
  {
   "cell_type": "markdown",
   "id": "9fce9dce",
   "metadata": {},
   "source": [
    "# Question - 5. What is the Pearson correlation coefficient between the number of comments and the number of likes that users do on the social network? (4 points)\n",
    "\n",
    "Print out one number. \n",
    "\n",
    "\n",
    "\n",
    "**Tip:** You can calculate correlation coefficient using the following formula: \n",
    "Assume that x and y are two arrays of data, in this case number of likes and comments of each user. n is the number of users. \n",
    "\n",
    "**Bonus Tip:** Consider that some users might have liked posts, but not liked any comments, or vice versa.\n",
    "\n",
    "You can use whichever technique you would like for the question, as long as it has been discussed in lecture.\n",
    "\n",
    " \n",
    "\n",
    "\n",
    "\\begin{align*}\n",
    "r= {{ n(\\sum x y ) - (\\sum x ) (\\sum y)    } \\over { \\sqrt{ [ n \\sum x^2  -\n",
    "(\\sum x)^2 ] [ n\\sum y^2 - (\\sum y )^2 ] } } }\n",
    "\\end{align*}\n",
    "\n",
    "\n",
    "\n",
    "\n",
    "\n",
    "\n",
    "\n",
    "\n",
    "\n"
   ]
  },
  {
   "cell_type": "code",
   "execution_count": null,
   "id": "673d1219",
   "metadata": {
    "lines_to_next_cell": 3
   },
   "outputs": [],
   "source": [
    "# Code here"
   ]
  }
 ],
 "metadata": {
  "jupytext": {
   "cell_metadata_filter": "-all",
   "main_language": "python",
   "notebook_metadata_filter": "-all"
  }
 },
 "nbformat": 4,
 "nbformat_minor": 5
}
