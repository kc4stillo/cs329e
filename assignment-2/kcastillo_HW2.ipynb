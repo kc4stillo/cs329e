{
 "cells": [
  {
   "cell_type": "markdown",
   "metadata": {},
   "source": [
    " # Homework 2\n",
    "\n",
    "\n",
    "\n",
    " ## Your Name Here (or your names here if you are pair programming)\n",
    "\n",
    "\n",
    "\n",
    "  - Student Name: Kyle Castillo\n",
    "\n",
    "  - Student UT EID: kmc5794\n",
    "\n",
    "\n",
    "\n",
    "\n",
    "\n",
    "  - Partner Name: Andre Sae\n",
    "\n",
    "  - Partner UT EID: as226576\n",
    "\n",
    "\n",
    "\n",
    " ## Practicing Pandas\n",
    "\n"
   ]
  },
  {
   "cell_type": "code",
   "execution_count": 1,
   "metadata": {},
   "outputs": [],
   "source": [
    "# Standard Headers\n",
    "# You are welcome to add additional headers here if you wish\n",
    "import pandas as pd\n",
    "import numpy as np\n",
    "import matplotlib.pyplot as plt\n",
    "\n",
    "pd.options.display.max_columns = None\n",
    "pd.options.display.max_rows = 50\n",
    "\n",
    "# Enable inline mode for matplotlib so that Jupyter displays graphs\n",
    "# %matplotlib inline"
   ]
  },
  {
   "cell_type": "markdown",
   "metadata": {},
   "source": [
    " # Social Network Dataset\n",
    "\n",
    "\n",
    "\n",
    " In this assignment we work with a social network dataset.\n",
    "\n",
    "\n",
    "\n",
    " You have 5 tables to work on.\n",
    "\n",
    "\n",
    "\n",
    " 1. **person_knows_person**\n",
    "\n",
    " This table represents the friendship between users. A person can have many friends. Persons have unique integer id number.\n",
    "\n",
    "\n",
    "\n",
    " 2. **person_likes_post_file**\n",
    "\n",
    " This tables represents user likes. A person and a post is represented by IDs.\n",
    "\n",
    "\n",
    "\n",
    " 3. **post_hasCreator_person**\n",
    "\n",
    " A person creates many posts. Each post has a unique creator person id.\n",
    "\n",
    "\n",
    "\n",
    " 4. **comment_replyOf_post**\n",
    "\n",
    " This table represents comments on posts. Both post and comments have unique ids.\n",
    "\n",
    "\n",
    "\n",
    " 5. **comment_hasCreator_person**\n",
    "\n",
    " A user can comment on posts. Each comment has a unique creator person id.\n",
    "\n"
   ]
  },
  {
   "cell_type": "code",
   "execution_count": 2,
   "metadata": {},
   "outputs": [
    {
     "name": "stdout",
     "output_type": "stream",
     "text": [
      "   Person.id  Person.id.1\n",
      "0         38          956\n",
      "1         38          962\n",
      "2         38          941\n",
      "3         38           74\n",
      "4         38           36\n",
      "-------------------------\n",
      "   Person.id  Post.id          creationDate\n",
      "0         74        0  2012-10-15T05:13:41Z\n",
      "1         36        0  2012-10-18T10:51:39Z\n",
      "2        417       10  2012-11-18T11:14:47Z\n",
      "3        415       10  2012-11-20T06:30:22Z\n",
      "4        109       10  2012-11-19T11:03:52Z\n",
      "-------------------------\n",
      "   Post.id  Person.id\n",
      "0        0         38\n",
      "1       10         38\n",
      "2       20         38\n",
      "3       30         38\n",
      "4       40         38\n",
      "-------------------------\n",
      "   Comment.id  Post.id\n",
      "0           0        0\n",
      "1          10        0\n",
      "2          30        0\n",
      "3          70        0\n",
      "4         100       10\n",
      "-------------------------\n",
      "   Comment.id  Person.id\n",
      "0           0         74\n",
      "1          10        832\n",
      "2          20        913\n",
      "3          30        457\n",
      "4          40        956\n",
      "-------------------------\n"
     ]
    }
   ],
   "source": [
    "url = \"https://raw.githubusercontent.com/kiat/Elements-of-Data-Analytics/main/datasets/social-media/\"\n",
    "\n",
    "person_knows_person_file = url + \"person_knows_person.csv\"\n",
    "person_likes_post_file = url + \"person_likes_post.csv\"\n",
    "post_hasCreator_person_file = url + \"post_hasCreator_person.csv\"\n",
    "comment_replyOf_post_file = url + \"comment_replyOf_post.csv\"\n",
    "comment_hasCreator_person_file = url + \"comment_hasCreator_person.csv\"\n",
    "\n",
    "person_knows_person = pd.read_csv(person_knows_person_file, sep=\"|\")\n",
    "person_likes_post = pd.read_csv(person_likes_post_file, sep=\"|\")\n",
    "post_hasCreator_person = pd.read_csv(post_hasCreator_person_file, sep=\"|\")\n",
    "comment_replyOf_post = pd.read_csv(comment_replyOf_post_file, sep=\"|\")\n",
    "comment_hasCreator_person = pd.read_csv(comment_hasCreator_person_file, sep=\"|\")\n",
    "\n",
    "print(person_knows_person.head(5))\n",
    "print(\"-------------------------\")\n",
    "\n",
    "print(person_likes_post.head(5))\n",
    "print(\"-------------------------\")\n",
    "\n",
    "print(post_hasCreator_person.head(5))\n",
    "print(\"-------------------------\")\n",
    "\n",
    "print(comment_replyOf_post.head(5))\n",
    "print(\"-------------------------\")\n",
    "\n",
    "print(comment_hasCreator_person.head(5))\n",
    "print(\"-------------------------\")"
   ]
  },
  {
   "cell_type": "markdown",
   "metadata": {},
   "source": [
    " # Question - 1. Who are the top-10 users who have the highest number of friends? (4 points)\n",
    "\n",
    " Count up the number of friends of each user and provide the top-10 of this number of friend count list. Print out their user IDs."
   ]
  },
  {
   "cell_type": "code",
   "execution_count": 9,
   "metadata": {},
   "outputs": [
    {
     "name": "stdout",
     "output_type": "stream",
     "text": [
      "   user  friends\n",
      "0    40     99.0\n",
      "1   336     99.0\n",
      "2   959     99.0\n",
      "3   296     98.0\n",
      "4   430     98.0\n",
      "5   811     98.0\n",
      "6   938     98.0\n",
      "7   165     97.0\n",
      "8   804     97.0\n",
      "9    23     96.0\n"
     ]
    }
   ],
   "source": [
    "# convert df to numpy in order to sort pairs\n",
    "pkp_numpy = person_knows_person.to_numpy()\n",
    "pkp_numpy.sort()\n",
    "\n",
    "# renames columns for clarity\n",
    "# drops duplicate pairs\n",
    "pkp_renamed = pd.DataFrame(pkp_numpy).rename(columns={0: \"smaller_id\", 1: \"larger_id\"})\n",
    "pkp_dropped = pkp_renamed.drop_duplicates()\n",
    "\n",
    "# create blank series to add smaller_id and larger_id\n",
    "blank_series = pd.Series(index=np.arange(0, 1000), data=np.zeros(1000))\n",
    "\n",
    "# adds blank series to smaller_id users and adds it to the sum of larger_id users and blank series\n",
    "pkp_total_friend_count = (\n",
    "    pkp_dropped[\"smaller_id\"].value_counts() + blank_series\n",
    ").fillna(0) + (pkp_dropped[\"larger_id\"].value_counts() + blank_series).fillna(0)\n",
    "\n",
    "# formats into df to giver data structure columnnames\n",
    "pkp_total_friend_count_df = (\n",
    "    pd.DataFrame(pkp_total_friend_count.nlargest(10))\n",
    "    .reset_index()\n",
    "    .rename(columns={\"index\": \"user\", 0: \"friends\"})\n",
    ")\n",
    "\n",
    "print(pkp_total_friend_count_df)"
   ]
  },
  {
   "cell_type": "markdown",
   "metadata": {},
   "source": [
    " # Question - 2. Who wrote the most liked post?  (4 points)\n",
    "\n",
    " Count up the number of likes for each post and find out who wrote that post.\n",
    "\n",
    " Print out the user id. If there are multiple maximum print them all."
   ]
  },
  {
   "cell_type": "code",
   "execution_count": 4,
   "metadata": {},
   "outputs": [
    {
     "name": "stdout",
     "output_type": "stream",
     "text": [
      "[ 38 941 347 495 884 336 405 135 587 863  43 875 861 422 514 746 728 548\n",
      " 825 402 109 557  72 627 790 463 838  65 357  52 427 193 629 232 186 197\n",
      " 585 429  28 732 318 635 393 654 105 659 189 643 668 556 383 532 326 970\n",
      " 717 900 910 239 524 396 224 795 262  91 711 348 153 663 996 473 415 842\n",
      " 762  86 731 919 685 505 353 965 712 945 564 122 959 997  36 510 278 675\n",
      "  13 275 568 221  73 669 408 483 844 517 544 118  48 370 976 609 156 102\n",
      " 333 770 569 630 451 542 911 430  83 979 896 297 394 182 828 882 878 529\n",
      " 819   3 149  78 319 180 683 938 951   5 434 572 157 886 785 613 229 980\n",
      " 778   4 476 491  11 715 942 280 835 986 661 834 545 780 674 858 876 658\n",
      " 464 929 960 325 618 888 693 921 694 983 696 179 406 225  55 958 167 991\n",
      " 767 250 480 899  21 943 772 166 987 786 565 366  99  71 814 446 745 699\n",
      " 998 892 648  66 531 632 738  53  22 550 571 716 131 395 647 420 168 101\n",
      " 344  31 908 640 651 682 973  64 266 417 426 274 570 191 680  41 155 859\n",
      " 649 913 702  10 230 477 369 334 773 414 538 620 660  82  62 281 273 576\n",
      " 265 372 361 424 811 830 848  76 725 456 794 995 761   7 547 160 903 309\n",
      "  46 756 377 283 885 614 199 310 356 501 840 459 751 503 744 826 475 208\n",
      " 423 953 984 245 404 686 312 252 776 323 211 583 866 578 339 146 802 530\n",
      " 789 985 360 820 968 345 117 236 500 110 272 827 895 121 270 606 435 413\n",
      " 650 592  69 862 227 803 296 104 421 631  40 311 867 752  29 165 367 253\n",
      " 777 915 596 292 410 625 967 617 494 870 447 375 626 763 222 947 581 152\n",
      " 673 506 132 238 115 805 362 184 519 993 522   8 824 145 237 337 931 971\n",
      " 783 432 471 502 349 608 978 342 905 407 604 364  18 831 286 183 754 771\n",
      " 261 641 698 233 379 196 255 441 670 880 226 437 181 162 316 454  92 962\n",
      " 653 304 244 448 368 589 676 966  47 509  84 599 890  15 151 350  26 904\n",
      " 810  70 467 748 499  20 593  24 954 779 657 871  74 801 584 812 956 804\n",
      " 277 562 138 120 950 228 791 612 385 380 127 741 425 839 246 639 918 701\n",
      " 678 922 194 782 742 552 586 944 727  60 218 755 112  34 307 107 719 799\n",
      " 868 479  95 457 192  23 924 378 832 723 481 365 440 461 855 352 198 144\n",
      " 872   0  63 664 492 836 108 321 798 484 320 291 515 573 817 359 119 700\n",
      " 141 389 975 655 100 611 722 697 864  68 734 164 328  89 465 869 541 264\n",
      " 692 455 450 558 590 539 147  81 721 240 174 894 488 822 351 507 792 305\n",
      " 784 610 808 724 409 735 136 567 633 935 793 295 294 797 260 891 158 713\n",
      " 849 219 401 934 169 525 644  16 714 930 129 833 546   6 324 512 750  98\n",
      "  93 458 438 520 597  33 850 346   2 290 161  80 329]\n"
     ]
    }
   ],
   "source": [
    "# groups by Post.id to count number of likes per post\n",
    "# aggregates andselects only users with most likes\n",
    "post_and_likes = pd.DataFrame(\n",
    "    person_likes_post.groupby([\"Post.id\"])[\"Post.id\"].count().nlargest(1, keep=\"all\")\n",
    ")\n",
    "\n",
    "# merges to post_hasCreater_person in order to findthe user who madeeach post\n",
    "merged_likes_and_people = post_hasCreator_person.merge(\n",
    "    post_and_likes, left_on=\"Post.id\", right_index=True\n",
    ")[\"Person.id\"]\n",
    "people_with_most_likes = merged_likes_and_people.unique()\n",
    "\n",
    "print(people_with_most_likes)"
   ]
  },
  {
   "cell_type": "markdown",
   "metadata": {},
   "source": [
    " # Question - 3. Who wrote the most influential post? The most influential post is the most discussed and most liked post. (4 points)\n",
    "\n",
    "\n",
    "\n",
    " **Tip:** First, count up the number of comments and likes that each post has. Then find out which post it is, and finally find out who wrote that.\n",
    "\n",
    " Print out one user id.\n",
    "\n",
    " If there is a tie, print out the ***one***  at the tope of the list.\n",
    "\n"
   ]
  },
  {
   "cell_type": "code",
   "execution_count": 5,
   "metadata": {},
   "outputs": [
    {
     "name": "stdout",
     "output_type": "stream",
     "text": [
      "       Person.id\n",
      "51882        325\n"
     ]
    }
   ],
   "source": [
    "# counts numberof likes per post\n",
    "post_and_likes = pd.DataFrame(\n",
    "    person_likes_post.groupby([\"Post.id\"])[\"Post.id\"].count()\n",
    ").rename(columns={\"Post.id\": \"likes\"})\n",
    "\n",
    "# counts number of comments per post\n",
    "post_and_comments = pd.DataFrame(\n",
    "    comment_replyOf_post.groupby([\"Post.id\"])[\"Post.id\"].count()\n",
    ").rename(columns={\"Post.id\": \"comments\"})\n",
    "\n",
    "# merges both dataframes together\n",
    "# calculates new column based on sum of comments and likes per post\n",
    "post_likes_comments = post_and_likes.merge(\n",
    "    post_and_comments, left_index=True, right_index=True\n",
    ")\n",
    "post_likes_comments[\"total\"] = (\n",
    "    post_likes_comments[\"likes\"] + post_likes_comments[\"comments\"]\n",
    ")\n",
    "\n",
    "# finds post with most likes and comments\n",
    "post_most_engagement = post_likes_comments.nlargest(1, \"total\")\n",
    "\n",
    "# merges to post_hasCreator_prson to find person who made the post\n",
    "print(\n",
    "    post_most_engagement.merge(\n",
    "        post_hasCreator_person, left_index=True, right_on=\"Post.id\"\n",
    "    )[[\"Person.id\"]]\n",
    ")\n"
   ]
  },
  {
   "cell_type": "markdown",
   "metadata": {},
   "source": [
    " # Question - 4. Create two histograms for the distributions of the number of likes and comments that users have created. (4 points)\n",
    "\n",
    " Describe the shape of these data two data distributions.\n",
    "\n",
    "\n",
    "\n",
    " **Tip:** First perpare two lists of number of likes and number of comments that users have done. You need to count up how many likes and how many comments each unique user id has."
   ]
  },
  {
   "cell_type": "code",
   "execution_count": 6,
   "metadata": {},
   "outputs": [
    {
     "data": {
      "text/plain": [
       "array([[<Axes: title={'center': 'likes_created'}>]], dtype=object)"
      ]
     },
     "execution_count": 6,
     "metadata": {},
     "output_type": "execute_result"
    },
    {
     "data": {
      "image/png": "[encoded data removed]",
      "text/plain": [
       "<Figure size 640x480 with 1 Axes>"
      ]
     },
     "metadata": {},
     "output_type": "display_data"
    },
    {
     "data": {
      "image/png": "[encoded data removed]",
      "text/plain": [
       "<Figure size 640x480 with 1 Axes>"
      ]
     },
     "metadata": {},
     "output_type": "display_data"
    }
   ],
   "source": [
    "# dataframe that counts how many comments each user leaves\n",
    "# renames columns for convenience\n",
    "comments_user_count = pd.DataFrame(\n",
    "    (comment_hasCreator_person.groupby(\"Person.id\")[\"Person.id\"].count())\n",
    ").rename(columns={\"Person.id\": \"comments_created\"})\n",
    "\n",
    "# dataframe that counts how manycomments each person left\n",
    "# renames columns\n",
    "likes_user_count = pd.DataFrame(\n",
    "    (person_likes_post.groupby(\"Person.id\")[\"Person.id\"].count())\n",
    ").rename(columns={\"Person.id\": \"likes_created\"})\n",
    "\n",
    "# plots\n",
    "comments_user_count.hist()\n",
    "likes_user_count.hist()\n",
    "\n",
    "# the distribution of both histrograms are strongly right skewed"
   ]
  },
  {
   "cell_type": "markdown",
   "metadata": {},
   "source": [
    " # Question - 5. What is the Pearson correlation coefficient between the number of comments and the number of likes that users do on the social network? (4 points)\n",
    "\n",
    "\n",
    "\n",
    " Print out one number.\n",
    "\n",
    "\n",
    "\n",
    "\n",
    "\n",
    "\n",
    "\n",
    " **Tip:** You can calculate correlation coefficient using the following formula:\n",
    "\n",
    " Assume that x and y are two arrays of data, in this case number of likes and comments of each user. n is the number of users.\n",
    "\n",
    "\n",
    "\n",
    " **Bonus Tip:** Consider that some users might have liked posts, but not liked any comments, or vice versa.\n",
    "\n",
    "\n",
    "\n",
    " You can use whichever technique you would like for the question, as long as it has been discussed in lecture.\n",
    "\n",
    "\n",
    "\n",
    "\n",
    "\n",
    "\n",
    "\n",
    "\n",
    "\n",
    " \\begin{align*}\n",
    "\n",
    " r= {{ n(\\sum x y ) - (\\sum x ) (\\sum y)    } \\over { \\sqrt{ [ n \\sum x^2  -\n",
    "\n",
    " (\\sum x)^2 ] [ n\\sum y^2 - (\\sum y )^2 ] } } }\n",
    "\n",
    " \\end{align*}\n",
    "\n",
    "\n",
    "\n",
    "\n",
    "\n",
    "\n",
    "\n",
    "\n",
    "\n",
    "\n",
    "\n",
    "\n",
    "\n",
    "\n",
    "\n",
    "\n",
    "\n",
    "\n",
    "\n"
   ]
  },
  {
   "cell_type": "code",
   "execution_count": 7,
   "metadata": {},
   "outputs": [],
   "source": [
    "# blank series to add comments per user and likes per user more conveniently\n",
    "blank_series = pd.Series(index=np.arange(0, 1000), data=np.zeros(1000))\n",
    "\n",
    "# counts comments per user and likes per user as a series\n",
    "comments_user_count = (comments_user_count[\"comments_created\"] + blank_series).fillna(0)\n",
    "likes_user_count = (likes_user_count[\"likes_created\"] + blank_series).fillna(0)\n",
    "\n",
    "# create a dict to transform into df\n",
    "comments_likes_dict = {\n",
    "    \"comments_created\": comments_user_count,\n",
    "    \"likes_created\": likes_user_count,\n",
    "}\n",
    "comments_likes_df = pd.DataFrame(comments_likes_dict)"
   ]
  },
  {
   "cell_type": "code",
   "execution_count": 8,
   "metadata": {},
   "outputs": [
    {
     "name": "stdout",
     "output_type": "stream",
     "text": [
      "0.9257650670138979\n"
     ]
    }
   ],
   "source": [
    "# x: likes per user\n",
    "# y: comments per user\n",
    "# n: number of users\n",
    "\n",
    "# creates deep copy\n",
    "correlation_df = comments_likes_df.copy()\n",
    "\n",
    "# calculuates number of rows\n",
    "# renames columns to fit to the formula\n",
    "n = len(comments_likes_df)\n",
    "correlation_df = correlation_df.rename(\n",
    "    columns={\"comments_created\": \"x\", \"likes_created\": \"y\"}\n",
    ")\n",
    "\n",
    "# math stuff\n",
    "correlation_df[\"xy\"] = correlation_df[\"x\"] * correlation_df[\"y\"]\n",
    "\n",
    "sum_xy = correlation_df[\"xy\"].sum()\n",
    "\n",
    "sum_x = correlation_df[\"x\"].sum()\n",
    "sum_y = correlation_df[\"y\"].sum()\n",
    "\n",
    "sum_x_squared = (correlation_df[\"x\"] ** 2).sum()\n",
    "sum_x_whole_squared = sum_x**2\n",
    "\n",
    "sum_y_squared = (correlation_df[\"y\"] ** 2).sum()\n",
    "sum_y_whole_squared = sum_y**2\n",
    "\n",
    "numerator = (n * sum_xy) - (sum_x * sum_y)\n",
    "denominator = np.sqrt(\n",
    "    ((n * sum_x_squared) - sum_x_whole_squared)\n",
    "    * ((n * sum_y_squared) - sum_y_whole_squared)\n",
    ")\n",
    "\n",
    "corr = numerator / denominator\n",
    "print(corr)"
   ]
  }
 ],
 "metadata": {
  "kernelspec": {
   "display_name": "venv (3.12.7)",
   "language": "python",
   "name": "python3"
  },
  "language_info": {
   "codemirror_mode": {
    "name": "ipython",
    "version": 3
   },
   "file_extension": ".py",
   "mimetype": "text/x-python",
   "name": "python",
   "nbconvert_exporter": "python",
   "pygments_lexer": "ipython3",
   "version": "3.12.7"
  }
 },
 "nbformat": 4,
 "nbformat_minor": 2
}
