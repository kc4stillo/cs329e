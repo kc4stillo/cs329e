{
 "cells": [
  {
   "cell_type": "markdown",
   "metadata": {},
   "source": [
    "# Homework 2\n",
    "\n",
    "## Your Name Here (or your names here if you are pair programming)\n",
    "\n",
    " - Student Name: Andre Sae\n",
    " - Student UT EID: as226576\n",
    "\n",
    "\n",
    " - Partner Name:\n",
    " - Partner UT EID:\n",
    "\n",
    "## Practicing Pandas\n"
   ]
  },
  {
   "cell_type": "code",
   "execution_count": 1,
   "metadata": {},
   "outputs": [],
   "source": [
    "# Standard Headers\n",
    "# You are welcome to add additional headers here if you wish\n",
    "import pandas as pd\n",
    "import numpy as np\n",
    "import matplotlib.pyplot as plt\n",
    "\n",
    "# Enable inline mode for matplotlib so that Jupyter displays graphs\n",
    "%matplotlib inline"
   ]
  },
  {
   "cell_type": "markdown",
   "metadata": {},
   "source": [
    "# Social Network Dataset\n",
    "\n",
    "In this assignment we work with a social network dataset. \n",
    "\n",
    "You have 5 tables to work on. \n",
    "\n",
    "1. **person_knows_person**\n",
    "This table represents the friendship between users. A person can have many friends. Persons have unique integer id number. \n",
    "\n",
    "2. **person_likes_post_file** \n",
    "This tables represents user likes. A person and a post is represented by IDs. \n",
    "\n",
    "3. **post_hasCreator_person**\n",
    "A person creates many posts. Each post has a unique creator person id. \n",
    "\n",
    "4. **comment_replyOf_post**\n",
    "This table represents comments on posts. Both post and comments have unique ids. \n",
    "\n",
    "5. **comment_hasCreator_person** \n",
    "A user can comment on posts. Each comment has a unique creator person id. \n"
   ]
  },
  {
   "cell_type": "code",
   "execution_count": 2,
   "metadata": {},
   "outputs": [
    {
     "name": "stdout",
     "output_type": "stream",
     "text": [
      "   Person.id  Person.id.1\n",
      "0         38          956\n",
      "1         38          962\n",
      "2         38          941\n",
      "3         38           74\n",
      "4         38           36\n",
      "-------------------------\n",
      "   Person.id  Post.id          creationDate\n",
      "0         74        0  2012-10-15T05:13:41Z\n",
      "1         36        0  2012-10-18T10:51:39Z\n",
      "2        417       10  2012-11-18T11:14:47Z\n",
      "3        415       10  2012-11-20T06:30:22Z\n",
      "4        109       10  2012-11-19T11:03:52Z\n",
      "-------------------------\n",
      "   Post.id  Person.id\n",
      "0        0         38\n",
      "1       10         38\n",
      "2       20         38\n",
      "3       30         38\n",
      "4       40         38\n",
      "-------------------------\n",
      "   Comment.id  Post.id\n",
      "0           0        0\n",
      "1          10        0\n",
      "2          30        0\n",
      "3          70        0\n",
      "4         100       10\n",
      "-------------------------\n",
      "   Comment.id  Person.id\n",
      "0           0         74\n",
      "1          10        832\n",
      "2          20        913\n",
      "3          30        457\n",
      "4          40        956\n",
      "-------------------------\n"
     ]
    }
   ],
   "source": [
    "url = \"https://raw.githubusercontent.com/kiat/Elements-of-Data-Analytics/main/datasets/social-media/\"\n",
    "\n",
    "person_knows_person_file = url + \"person_knows_person.csv\"\n",
    "person_likes_post_file = url + \"person_likes_post.csv\"\n",
    "post_hasCreator_person_file = url + \"post_hasCreator_person.csv\"\n",
    "comment_replyOf_post_file = url + \"comment_replyOf_post.csv\"\n",
    "comment_hasCreator_person_file = url + \"comment_hasCreator_person.csv\"\n",
    "\n",
    "person_knows_person = pd.read_csv(person_knows_person_file,  sep='|')\n",
    "person_likes_post = pd.read_csv(person_likes_post_file,  sep='|')\n",
    "post_hasCreator_person = pd.read_csv(post_hasCreator_person_file,  sep='|')\n",
    "comment_replyOf_post = pd.read_csv(comment_replyOf_post_file, sep='|')\n",
    "comment_hasCreator_person = pd.read_csv(comment_hasCreator_person_file,  sep='|')\n",
    "\n",
    "print(person_knows_person.head(5))\n",
    "print(\"-------------------------\")\n",
    "\n",
    "print(person_likes_post.head(5))\n",
    "print(\"-------------------------\")\n",
    "\n",
    "print(post_hasCreator_person.head(5))\n",
    "print(\"-------------------------\")\n",
    "\n",
    "print(comment_replyOf_post.head(5))\n",
    "print(\"-------------------------\")\n",
    "\n",
    "print(comment_hasCreator_person.head(5))\n",
    "print(\"-------------------------\")"
   ]
  },
  {
   "cell_type": "markdown",
   "metadata": {},
   "source": [
    "# Question - 1. Who are the top-10 users who have the highest number of friends? (4 points)\n",
    "Count up the number of friends of each user and provide the top-10 of this number of friend count list. Print out their user IDs. "
   ]
  },
  {
   "cell_type": "code",
   "execution_count": null,
   "metadata": {},
   "outputs": [],
   "source": [
    "# Code here"
   ]
  },
  {
   "cell_type": "markdown",
   "metadata": {},
   "source": [
    "# Question - 2. Who wrote the most liked post?  (4 points)\n",
    "Count up the number of likes for each post and find out who wrote that post. \n",
    "Print out the user id. If there are multiple maximum print them all. "
   ]
  },
  {
   "cell_type": "code",
   "execution_count": null,
   "metadata": {},
   "outputs": [],
   "source": [
    "# Code here "
   ]
  },
  {
   "cell_type": "markdown",
   "metadata": {},
   "source": [
    "# Question - 3. Who wrote the most influential post? The most influential post is the most discussed and most liked post. (4 points)\n",
    "\n",
    "**Tip:** First, count up the number of comments and likes that each post has. Then find out which post it is, and finally find out who wrote that. \n",
    "Print out one user id. \n",
    "If there is a tie, print out the ***one***  at the tope of the list.\n"
   ]
  },
  {
   "cell_type": "code",
   "execution_count": 36,
   "metadata": {},
   "outputs": [
    {
     "data": {
      "text/html": [
       "<div>\n",
       "<style scoped>\n",
       "    .dataframe tbody tr th:only-of-type {\n",
       "        vertical-align: middle;\n",
       "    }\n",
       "\n",
       "    .dataframe tbody tr th {\n",
       "        vertical-align: top;\n",
       "    }\n",
       "\n",
       "    .dataframe thead th {\n",
       "        text-align: right;\n",
       "    }\n",
       "</style>\n",
       "<table border=\"1\" class=\"dataframe\">\n",
       "  <thead>\n",
       "    <tr style=\"text-align: right;\">\n",
       "      <th></th>\n",
       "      <th>Post.id</th>\n",
       "      <th>Person.id</th>\n",
       "    </tr>\n",
       "  </thead>\n",
       "  <tbody>\n",
       "    <tr>\n",
       "      <th>51882</th>\n",
       "      <td>518820</td>\n",
       "      <td>325</td>\n",
       "    </tr>\n",
       "  </tbody>\n",
       "</table>\n",
       "</div>"
      ],
      "text/plain": [
       "       Post.id  Person.id\n",
       "51882   518820        325"
      ]
     },
     "execution_count": 36,
     "metadata": {},
     "output_type": "execute_result"
    }
   ],
   "source": [
    "# comment_hasCreator_person.columns\n",
    "post_to_num_comments = comment_replyOf_post.groupby('Post.id').size()\n",
    "\n",
    "post_to_num_likes = person_likes_post.groupby('Post.id').size()\n",
    "\n",
    "post_to_total_like_and_comment = post_to_num_comments + post_to_num_likes\n",
    "\n",
    "# print(post_to_num_comments.nlargest(5))\n",
    "\n",
    "# print(post_to_num_likes.nlargest(5))\n",
    "\n",
    "post_id = post_to_total_like_and_comment.nlargest(1).keys()[0]\n",
    "\n",
    "post_hasCreator_person.loc[post_hasCreator_person['Post.id'] == post_id]"
   ]
  },
  {
   "cell_type": "markdown",
   "metadata": {},
   "source": [
    "# Question - 4. Create two histograms for the distributions of the number of likes and comments that users have created. (4 points)\n",
    "Describe the shape of these data two data distributions. \n",
    "\n",
    "**Tip:** First perpare two lists of number of likes and number of comments that users have done. You need to count up how many likes and how many comments each unique user id has. "
   ]
  },
  {
   "cell_type": "code",
   "execution_count": null,
   "metadata": {},
   "outputs": [
    {
     "name": "stdout",
     "output_type": "stream",
     "text": [
      "965\n"
     ]
    },
    {
     "data": {
      "image/png": "[encoded data removed]",
      "text/plain": [
       "<Figure size 640x480 with 1 Axes>"
      ]
     },
     "metadata": {},
     "output_type": "display_data"
    },
    {
     "data": {
      "image/png": "[encoded data removed]",
      "text/plain": [
       "<Figure size 640x480 with 1 Axes>"
      ]
     },
     "metadata": {},
     "output_type": "display_data"
    }
   ],
   "source": [
    "person_likes_post.groupby('Person.id').size().plot.hist()\n",
    "\n",
    "plt.xlabel(\"Person.id\")\n",
    "plt.ylabel(\"Like.count\")\n",
    "\n",
    "plt.show()\n",
    "\n",
    "comment_hasCreator_person.groupby('Person.id').size().plot.hist()\n",
    "\n",
    "plt.xlabel(\"Person.id\")\n",
    "plt.ylabel(\"Comment.count\")\n",
    "\n",
    "plt.show()"
   ]
  },
  {
   "cell_type": "markdown",
   "metadata": {},
   "source": [
    "The shape is a pareto distribution."
   ]
  },
  {
   "cell_type": "markdown",
   "metadata": {},
   "source": [
    "# Question - 5. What is the Pearson correlation coefficient between the number of comments and the number of likes that users do on the social network? (4 points)\n",
    "\n",
    "Print out one number. \n",
    "\n",
    "\n",
    "\n",
    "**Tip:** You can calculate correlation coefficient using the following formula: \n",
    "Assume that x and y are two arrays of data, in this case number of likes and comments of each user. n is the number of users. \n",
    "\n",
    "**Bonus Tip:** Consider that some users might have liked posts, but not liked any comments, or vice versa.\n",
    "\n",
    "You can use whichever technique you would like for the question, as long as it has been discussed in lecture.\n",
    "\n",
    " \n",
    "\n",
    "\n",
    "\\begin{align*}\n",
    "r= {{ n(\\sum x y ) - (\\sum x ) (\\sum y)    } \\over { \\sqrt{ [ n \\sum x^2  -\n",
    "(\\sum x)^2 ] [ n\\sum y^2 - (\\sum y )^2 ] } } }\n",
    "\\end{align*}\n",
    "\n",
    "\n",
    "\n",
    "\n",
    "\n",
    "\n",
    "\n",
    "\n",
    "\n"
   ]
  },
  {
   "cell_type": "code",
   "execution_count": 74,
   "metadata": {},
   "outputs": [
    {
     "name": "stdout",
     "output_type": "stream",
     "text": [
      "971\n",
      "Pearson Coefficent: \n",
      "0.8937985135468518\n"
     ]
    }
   ],
   "source": [
    "import math\n",
    "\n",
    "#\n",
    "# x: likes per user\n",
    "# y: comments per user\n",
    "# n: number of users\n",
    "#\n",
    "def get_r(x: pd.Series, y: pd.Series, n: int) -> float:\n",
    "    mean_x = x.mean()\n",
    "    mean_y = y.mean()\n",
    "    sum_xy = (x * y).sum()\n",
    "    sum_x = x.sum()\n",
    "    sum_y = y.sum()\n",
    "    sum_x_squared = (x * x).sum()\n",
    "    sqaured_sum_x = x.sum() * x.sum()\n",
    "    sum_y_squared = (y * y).sum()\n",
    "    squared_sum_y = y.sum() * y.sum()\n",
    "\n",
    "    \n",
    "    # return ((n * sum_xy) - (sum_x * sum_y)) / (math.sqrt(((n * sum_x_squared) - sqaured_sum_x) * ((n * sum_y_squared) - squared_sum_y)))\n",
    "\n",
    "    return ((x - mean_x) * (y - mean_y)).sum() / (math.sqrt( ((x - mean_x) * (x - mean_x)).sum() * ((y - mean_y) * (y - mean_y)).sum()))\n",
    "\n",
    "\n",
    "\n",
    "x = person_likes_post.groupby('Person.id').size()\n",
    "y = comment_hasCreator_person.groupby('Person.id').size()\n",
    "\n",
    "x.name = \"Person Likes Post\"\n",
    "y.name = \"Person Comments\"\n",
    "\n",
    "a = pd.merge(x, y, on='Person.id', how='outer', indicator=True)\n",
    "n = len(a)\n",
    "print(n)\n",
    "\n",
    "r = get_r(x, y, n)\n",
    "\n",
    "print(\"Pearson Coefficent: \")\n",
    "print(r)"
   ]
  }
 ],
 "metadata": {
  "kernelspec": {
   "display_name": ".venv",
   "language": "python",
   "name": "python3"
  },
  "language_info": {
   "codemirror_mode": {
    "name": "ipython",
    "version": 3
   },
   "file_extension": ".py",
   "mimetype": "text/x-python",
   "name": "python",
   "nbconvert_exporter": "python",
   "pygments_lexer": "ipython3",
   "version": "3.13.7"
  }
 },
 "nbformat": 4,
 "nbformat_minor": 4
}
